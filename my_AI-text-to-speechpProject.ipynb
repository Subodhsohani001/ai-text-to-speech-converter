{
 "cells": [
  {
   "cell_type": "code",
   "execution_count": 3,
   "id": "1df44f83-cf2c-4ff6-af74-196a552c7e7f",
   "metadata": {},
   "outputs": [
    {
     "name": "stdout",
     "output_type": "stream",
     "text": [
      "Requirement already satisfied: pyttsx3 in c:\\users\\subodh sohani\\appdata\\local\\programs\\python\\python313\\lib\\site-packages (2.99)\n",
      "Requirement already satisfied: comtypes in c:\\users\\subodh sohani\\appdata\\local\\programs\\python\\python313\\lib\\site-packages (from pyttsx3) (1.4.13)\n",
      "Requirement already satisfied: pypiwin32 in c:\\users\\subodh sohani\\appdata\\local\\programs\\python\\python313\\lib\\site-packages (from pyttsx3) (223)\n",
      "Requirement already satisfied: pywin32 in c:\\users\\subodh sohani\\appdata\\local\\programs\\python\\python313\\lib\\site-packages (from pyttsx3) (311)\n"
     ]
    }
   ],
   "source": [
    "!pip install pyttsx3"
   ]
  },
  {
   "cell_type": "code",
   "execution_count": null,
   "id": "71d6d0ea-6505-4656-bfe9-e47eb3804f85",
   "metadata": {},
   "outputs": [
    {
     "name": "stdout",
     "output_type": "stream",
     "text": [
      "===AI TEXT TO SPEECH CONVERTER===\n",
      "Type/Insert any text and hear it spoken by Computer!\n",
      "Type 'q' to quit.\n",
      "\n",
      "Windows voice is not available (win32com not installed).\n"
     ]
    },
    {
     "name": "stdin",
     "output_type": "stream",
     "text": [
      "\n",
      "Enter the text (or 'q' to quit) Paragraphs are the building blocks of papers. Many students define paragraphs in terms of length: a paragraph is a group of at least five sentences, a paragraph is half a page long, etc\n",
      "\n",
      "Enter the text (or 'q' to quit) Paragraphs are the building blocks of papers. Many students define paragraphs in terms of length: a paragraph is a group of at least five sentences, a paragraph is half a page long, etc\n"
     ]
    }
   ],
   "source": [
    "#AI text to speech Converter Project for GIthub\n",
    "#WOrks with pyttsx3 (Cross-Platform) and windows Native Value\n",
    "\n",
    "print(\"===AI TEXT TO SPEECH CONVERTER===\")\n",
    "print(\"Type/Insert any text and hear it spoken by Computer!\")\n",
    "print(\"Type 'q' to quit.\\n\")\n",
    "\n",
    "# Method 1: pyttsx3 (Cross Platform)\n",
    "import pyttsx3\n",
    "\n",
    "engine = pyttsx3.init() #Initialize the Engine\n",
    "\n",
    "# Optional: Set voice properties\n",
    "engine.setProperty('rate', 150)  #speech speed (default ~200)\n",
    "engine.setProperty('volume', 0.8)  \n",
    "voice = engine.getProperty('voices')\n",
    "engine.setProperty('voice', voice[0].id)  #choose voice (0 =male, 1 = female)\n",
    "\n",
    "# Method 2: Windows native voice\n",
    "try:\n",
    "    import win32.com.client as wincom\n",
    "    speak = wincom.Dispatch(\"SAPI.SpVoice\")\n",
    "    windows_voice_available = True\n",
    "except ImportError:\n",
    "    print(\"Windows voice is not available (win32com not installed).\")\n",
    "    windows_voice_available = False\n",
    "\n",
    "# Main interactive Loop\n",
    "while True:\n",
    "    text = input(\"\\nEnter the text (or 'q' to quit)\" )\n",
    "    if text.lower() == \"q\":\n",
    "        engine.say(\"BYE BYE\")\n",
    "        engine.runAndWait()\n",
    "        if windows_voice_available:\n",
    "            speak.Speak(\"BYE BYE\")\n",
    "        print(\"GoodBye! \")\n",
    "        break\n",
    "\n",
    "    #Speak using pyttsx3\n",
    "    engine.say(text)\n",
    "    engine.runAndWait()\n",
    "\n",
    "    # Speak using Windows voice if available\n",
    "    if windows_voice_available:\n",
    "        speak.Speak(text)"
   ]
  },
  {
   "cell_type": "code",
   "execution_count": null,
   "id": "5c669708-013e-44b8-9d60-9f526da863b2",
   "metadata": {},
   "outputs": [],
   "source": [
    "\n"
   ]
  }
 ],
 "metadata": {
  "kernelspec": {
   "display_name": "Python 3 (ipykernel)",
   "language": "python",
   "name": "python3"
  },
  "language_info": {
   "codemirror_mode": {
    "name": "ipython",
    "version": 3
   },
   "file_extension": ".py",
   "mimetype": "text/x-python",
   "name": "python",
   "nbconvert_exporter": "python",
   "pygments_lexer": "ipython3",
   "version": "3.13.2"
  }
 },
 "nbformat": 4,
 "nbformat_minor": 5
}
