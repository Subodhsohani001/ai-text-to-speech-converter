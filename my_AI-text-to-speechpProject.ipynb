!pip install pyttsx3

#AI text to speech Converter Project for GIthub
#WOrks with pyttsx3 (Cross-Platform) and windows Native Value

print("===AI TEXT TO SPEECH CONVERTER===")
print("Type/Insert any text and hear it spoken by Computer!")
print("Type 'q' to quit.\n")

# Method 1: pyttsx3 (Cross Platform)
import pyttsx3

engine = pyttsx3.init() #Initialize the Engine

# Optional: Set voice properties
engine.setProperty('rate', 150)  #speech speed (default ~200)
engine.setProperty('volume', 0.8)  
voice = engine.getProperty('voices')
engine.setProperty('voice', voice[0].id)  #choose voice (0 =male, 1 = female)

# Method 2: Windows native voice
try:
    import win32.com.client as wincom
    speak = wincom.Dispatch("SAPI.SpVoice")
    windows_voice_available = True
except ImportError:
    print("Windows voice is not available (win32com not installed).")
    windows_voice_available = False

# Main interactive Loop
while True:
    text = input("\nEnter the text (or 'q' to quit)" )
    if text.lower() == "q":
        engine.say("BYE BYE")
        engine.runAndWait()
        if windows_voice_available:
            speak.Speak("BYE BYE")
        print("GoodBye! ")
        break

    #Speak using pyttsx3
    engine.say(text)
    engine.runAndWait()

    # Speak using Windows voice if available
    if windows_voice_available:
        speak.Speak(text)
